{
 "cells": [
  {
   "cell_type": "raw",
   "metadata": {
    "vscode": {
     "languageId": "raw"
    }
   },
   "source": [
    "---\n",
    "title: \"Assignment 1\"\n",
    "subtitle: \"STAT 201\"\n",
    "author: \"Angel Guo\"\n",
    "format:\n",
    "  html:\n",
    "    toc: true\n",
    "    embed-resources: true\n",
    "jupyter: python3\n",
    "---"
   ]
  },
  {
   "cell_type": "markdown",
   "metadata": {},
   "source": [
    "## Instructions {-}\n",
    "\n",
    "1. **Write your name** on the assignment.\n",
    "\n",
    "2. Write your code in the *Code* cells of the **template provided** to write solutions for the assignment. **Do not open a new notebook**, and work from scratch. Ensure that the solution is written neatly enough to understand and grade.\n",
    "\n",
    "3. Use [Quarto](https://quarto.org/docs/output-formats/html-basics.html) to print the *.ipynb* file as HTML. You will need to open the command prompt, navigate to the directory containing the file, and use the command: `quarto render filename.ipynb --to html`. Submit the HTML file.\n",
    "\n",
    "4. You may talk to a friend, discuss the questions and potential directions for solving them. However, you need to write your own solutions and code separately, and not as a group activity. Do not use AI to solve the problems.\n",
    "\n",
    "5. If your document is not clean and organized, you can lose up to 2 points:\n",
    "\n",
    "    - Must be an HTML file rendered using Quarto. \n",
    "    - There aren’t excessively long outputs of extraneous information (e.g. no printouts of unnecessary results without good reason, there aren’t long printouts of which iteration a loop is on, there aren’t long sections of commented-out code, etc.). There is no piece of unnecessary / redundant code, and no unnecessary / redundant text\n",
    "    - The code follows the [python style guide](https://peps.python.org/pep-0008/) for naming variables, spaces, indentation, etc.\n",
    "    - The code should be commented and clearly written with intuitive variable names. For example, use variable names such as number_input, factor, hours, instead of a,b,xyz, etc.\n",
    "\n",
    "6. If your document does not include the output of your code, you may lose up to 5 points."
   ]
  },
  {
   "cell_type": "markdown",
   "metadata": {},
   "source": [
    "## Question 1 (4 points)"
   ]
  },
  {
   "cell_type": "markdown",
   "metadata": {},
   "source": [
    "a) Create a a variable called `var_float` that contains a decimal number."
   ]
  },
  {
   "cell_type": "code",
   "execution_count": 9,
   "metadata": {},
   "outputs": [],
   "source": [
    "var_float = 2.5"
   ]
  },
  {
   "cell_type": "markdown",
   "metadata": {},
   "source": [
    "b) Store a sentence as `var_sent` that reads exactly as follows: \"The square of `{}` is `{}`.\" Where the first `{}` is your `var_float` and the second `{}` is the square of that variable. Print your sentence."
   ]
  },
  {
   "cell_type": "code",
   "execution_count": 18,
   "metadata": {},
   "outputs": [
    {
     "name": "stdout",
     "output_type": "stream",
     "text": [
      "The square of 2.5 is 6.25.\n"
     ]
    }
   ],
   "source": [
    "var_square = var_float * var_float\n",
    "var_sent = \"The square of {} is {}.\".format(var_float, var_square)\n",
    "print(var_sent)"
   ]
  },
  {
   "cell_type": "markdown",
   "metadata": {},
   "source": [
    "c) Print the output of using the `count` **method** to determine how many spaces are in `var_sent`."
   ]
  },
  {
   "cell_type": "code",
   "execution_count": 19,
   "metadata": {},
   "outputs": [
    {
     "name": "stdout",
     "output_type": "stream",
     "text": [
      "5\n"
     ]
    }
   ],
   "source": [
    "print(var_sent.count(' '))"
   ]
  },
  {
   "cell_type": "markdown",
   "metadata": {},
   "source": [
    "d) Round your `var_float` to 0 decimal places and convert to an integer. Store this as `var_int` and print the `type` to verify this was done correctly."
   ]
  },
  {
   "cell_type": "code",
   "execution_count": 12,
   "metadata": {},
   "outputs": [
    {
     "name": "stdout",
     "output_type": "stream",
     "text": [
      "<class 'int'>\n"
     ]
    }
   ],
   "source": [
    "var_int = round(var_float)\n",
    "print(type(var_int))"
   ]
  },
  {
   "cell_type": "markdown",
   "metadata": {},
   "source": [
    "## Question 2 (3 points)"
   ]
  },
  {
   "cell_type": "markdown",
   "metadata": {},
   "source": [
    "Have a user input 2 Booleans (hint: must be type bool). In a **single print line**, using only `and`, `or`, `not` functions, have the output return True if both variables are the same, and False is they are different. \n",
    "\n",
    "Clarification: 1) cannot use conditional if statements 2) this must be capable of printing the correct output for any possible booleans the user could enter, not just the one example that your html will show."
   ]
  },
  {
   "cell_type": "code",
   "execution_count": 13,
   "metadata": {},
   "outputs": [
    {
     "name": "stdout",
     "output_type": "stream",
     "text": [
      "True\n"
     ]
    }
   ],
   "source": [
    "user_1 = eval(input(\"Please enter the first Boolean:\"))\n",
    "user_2 = eval(input(\"Please enter the second Boolean:\"))\n",
    "\n",
    "print((user_1 and user_2) or not (user_1 or user_2))"
   ]
  },
  {
   "cell_type": "markdown",
   "metadata": {},
   "source": [
    "## Question 3 (6 points)"
   ]
  },
  {
   "cell_type": "markdown",
   "metadata": {},
   "source": [
    "At Northwestern, email addresses are classified as follows:\n",
    "\n",
    "- **Student email addresses** end with `@u.northwestern.edu`.\n",
    "- **Professor email addresses** end with `@northwestern.edu` (but not `@u.northwestern.edu`).\n",
    "\n",
    "Write a Python program that:\n",
    "1. Asks the user how many email addresses they will enter.\n",
    "2. Prompts the user to input each email address.\n",
    "3. After all email addresses are entered:\n",
    "   - Print all professor email addresses under the heading `\"Professor Emails:\"`.\n",
    "   - Print all student email addresses under the heading `\"Student Emails:\"`.\n",
    "   - If no professor or student emails were entered, print `\"None\"` under the respective heading.\n",
    "\n",
    "### Requirements:\n",
    "- Do not use lists or other advanced data structures, since we have not covered them yet.\n",
    "- Use only basic string operations and loops.\n",
    "- **The program must handle all cases**, regardless of uppercase or lowercase in the email addresses.\n",
    "- **Trim any leading or trailing whitespace** in the user input before classifying the email.\n",
    "\n",
    "**Example Run:**\n",
    "\n",
    "How many email addresses will you be entering? 3 <br>\n",
    "Enter an email address: lshi@northwestern.edu  <br>\n",
    "Enter an email address: jackyu@u.northwestern.edu  <br>\n",
    "Enter an email address:   Alexa@u.northwestern.edu  <br>\n",
    "\n",
    "**Output:**\n",
    "\n",
    "Professor Emails: <br>\n",
    "lshi@northwestern.edu <br>\n",
    "\n",
    "Student Emails: <br>\n",
    "jackyu@u.northwestern.edu <br>\n",
    "alexa@u.northwestern.edu <br>\n"
   ]
  },
  {
   "cell_type": "code",
   "execution_count": null,
   "metadata": {},
   "outputs": [
    {
     "name": "stdout",
     "output_type": "stream",
     "text": [
      "\n",
      "Professor Emails:\n",
      "lshi@northwestern.edu\n",
      "\n",
      "Student Emails:\n",
      "jackyu@u.northwestern.edu\n",
      "alexa@u.northwestern.edu\n"
     ]
    }
   ],
   "source": [
    "num_email = int(input('How many email addresses will you be entering? '))\n",
    "\n",
    "prof = ''\n",
    "student = ''\n",
    "count = 0\n",
    "\n",
    "while count < num_email:\n",
    "    email = input(\"Enter an email address: \").strip().lower()\n",
    "\n",
    "    if email.endswith(\"@northwestern.edu\"):\n",
    "        prof += email + '\\n'\n",
    "    elif email.endswith(\"@u.northwestern.edu\"):\n",
    "        student += email + '\\n'\n",
    "    \n",
    "    count += 1\n",
    "\n",
    "print(\"\\nProfessor Emails:\")\n",
    "if prof != '':\n",
    "    print(prof.strip())\n",
    "else:\n",
    "    print(\"None\")\n",
    "\n",
    "print(\"\\nStudent Emails:\")\n",
    "if student != '':\n",
    "    print(student.strip())\n",
    "else:\n",
    "    print(\"None\")"
   ]
  },
  {
   "cell_type": "markdown",
   "metadata": {},
   "source": [
    "## Question 4 (3 points)"
   ]
  },
  {
   "cell_type": "markdown",
   "metadata": {},
   "source": [
    "Write a tip calculator program that asks the user for the price of the meal and the percent tip they want to leave. Then print a sentence that displays both the tip amount and total bill. Example if meal price is 25 dollars and tip is 15 percent:\n",
    "                                   \n",
    "                                   Your tip amount is $3.75 and your total bill is $28.75."
   ]
  },
  {
   "cell_type": "code",
   "execution_count": 15,
   "metadata": {},
   "outputs": [
    {
     "name": "stdout",
     "output_type": "stream",
     "text": [
      "Your tip amount is $3.75 and your total bill is $28.75.\n"
     ]
    }
   ],
   "source": [
    "price = float(input(\"Please enter the price of the meal:\" ))\n",
    "tip = float(input(\"Please enter the percent tip you want to leave (%):\"))\n",
    "\n",
    "tip_amount = (tip/100) * price\n",
    "total = price + tip_amount\n",
    "\n",
    "print(\"Your tip amount is ${} and your total bill is ${}.\".format(tip_amount, total))"
   ]
  },
  {
   "cell_type": "markdown",
   "metadata": {},
   "source": [
    "## Question 5 (3 points)"
   ]
  },
  {
   "cell_type": "markdown",
   "metadata": {},
   "source": [
    "Write a program that asks the user for a number of seconds and prints out how many minutes and seconds that is. Example:\n",
    "\n",
    "                                    200 seconds is 3 minutes and 20 seconds.\n",
    "                                               \n",
    "**Use only two lines of code for this question: one line for the input and one line for the print.** "
   ]
  },
  {
   "cell_type": "code",
   "execution_count": 35,
   "metadata": {},
   "outputs": [
    {
     "name": "stdout",
     "output_type": "stream",
     "text": [
      "200 seconds is 3 minutes and 20 seconds.\n"
     ]
    }
   ],
   "source": [
    "sec = int(input(\"Please enter a number of seconds: \"))\n",
    "print(\"{} seconds is {} minutes and {} seconds.\".format(sec, sec // 60, sec - (sec // 60)*60))"
   ]
  },
  {
   "cell_type": "markdown",
   "metadata": {},
   "source": [
    "## Question 6 (4 points)"
   ]
  },
  {
   "cell_type": "markdown",
   "metadata": {},
   "source": [
    "Write a program that asks the user to enter two numbers. Have the program return one of the following messages depending on which criteria is met. \n",
    "\n",
    "\"`num1` is greater than `num2`\"; \"`num 1` is less than `num2`\"; \"`num1` is equal to `num2`\"; where `num1` and `num2` are the user inputed values.\n",
    "\n",
    "Show the output of the program with any two numbers of your choice."
   ]
  },
  {
   "cell_type": "code",
   "execution_count": 21,
   "metadata": {},
   "outputs": [
    {
     "name": "stdout",
     "output_type": "stream",
     "text": [
      "3.0 is equal to 3.0\n"
     ]
    }
   ],
   "source": [
    "num1 = float(input(\"Please enter the first number: \"))\n",
    "num2 = float(input(\"Please enter the second number: \"))\n",
    "\n",
    "if num1 > num2:\n",
    "    print(\"{} is greater than {}\".format(num1, num2))\n",
    "elif num1 < num2:\n",
    "    print(\"{} is less than {}\".format(num1, num2))\n",
    "elif num1 == num2:\n",
    "    print(\"{} is equal to {}\".format(num1, num2))"
   ]
  },
  {
   "cell_type": "markdown",
   "metadata": {},
   "source": [
    "## Question 7 (4 points)"
   ]
  },
  {
   "cell_type": "markdown",
   "metadata": {},
   "source": [
    "a) Use a **single if-elif-else** statement to print the smallest of 3 user defined numbers. Show the output of the program with any three numbers of your choice."
   ]
  },
  {
   "cell_type": "code",
   "execution_count": 20,
   "metadata": {},
   "outputs": [
    {
     "name": "stdout",
     "output_type": "stream",
     "text": [
      "The smallest number of 5.0, 17.0, 8.0, is: 5.0.\n"
     ]
    }
   ],
   "source": [
    "s1 = float(input(\"Enter first number: \"))\n",
    "s2 = float(input(\"Enter second number: \"))\n",
    "s3 = float(input(\"Enter third number: \"))\n",
    "\n",
    "if s1 <= s2 and s1 <= s3:\n",
    "    print(f\"The smallest number of {s1}, {s2}, {s3}, is: {s1}.\")\n",
    "elif s2 <= s1 and s2 <= s3:\n",
    "    print(f\"The smallest number of {s1}, {s2}, {s3}, is: {s2}.\")\n",
    "else:\n",
    "    print(f\"The smallest number of {s1}, {s2}, {s3}, is: {s3}.\")"
   ]
  },
  {
   "cell_type": "markdown",
   "metadata": {},
   "source": [
    "b) Use a **nested** conditional statement to print the smallest of 3 user defined numbers. Show the output of the program with any three numbers of your choice."
   ]
  },
  {
   "cell_type": "code",
   "execution_count": 21,
   "metadata": {},
   "outputs": [
    {
     "name": "stdout",
     "output_type": "stream",
     "text": [
      "The smallest number of 5.0, 17.0, 9.0, is: 5.0.\n"
     ]
    }
   ],
   "source": [
    "n1 = float(input(\"Enter first number: \"))\n",
    "n2 = float(input(\"Enter second number: \"))\n",
    "n3 = float(input(\"Enter third number: \"))\n",
    "\n",
    "if n1 <= n2:\n",
    "    if n1 <= n3:\n",
    "        print(f\"The smallest number of {n1}, {n2}, {n3}, is: {n1}.\")\n",
    "    else:\n",
    "        print(f\"The smallest number of {n1}, {n2}, {n3}, is: {n3}.\")\n",
    "else:\n",
    "    if n2 <= n3:\n",
    "        print(f\"The smallest number of {n1}, {n2}, {n3}, is: {n2}.\")\n",
    "    else:\n",
    "        print(f\"The smallest number of {n1}, {n2}, {n3}, is: {n3}.\")"
   ]
  },
  {
   "cell_type": "markdown",
   "metadata": {},
   "source": [
    "## Question 8 (6 points)"
   ]
  },
  {
   "cell_type": "markdown",
   "metadata": {},
   "source": [
    "Write a program that asks the user to enter either rock, paper, or scissors. Use a conditional statement to determine if the user wins, loses, or ties the computer at the game \"Rock, Paper, Scissors\". Note: rock beats scissors; scissors beats paper; paper beats rock\n",
    "\n",
    "Print a meaningful sentence that includes the winner, the computer's choice, and the user's choice.\n",
    "\n",
    "- Handle case sensitivity (example: if the user enters Rock, it will still run). \n",
    "- If the user enters a word other than one of the choices, print \"Invalid choice.\". \n",
    "- Show the output of the program when the user enters Rock (capitalized)"
   ]
  },
  {
   "cell_type": "code",
   "execution_count": 22,
   "metadata": {},
   "outputs": [
    {
     "name": "stdout",
     "output_type": "stream",
     "text": [
      "You chose paper and computer chose scissors. You lost.\n"
     ]
    }
   ],
   "source": [
    "# starter code to generate a random choice of rock, paper, scissors\n",
    "import random as rm\n",
    "comp_choice = rm.choice(['rock', 'paper', 'scissors'])\n",
    "\n",
    "# your solution in this code chunk below\n",
    "user_choice = input(\"Please enter either rock, paper, or scissors\").strip().lower()\n",
    "\n",
    "if user_choice not in ['rock', 'paper', 'scissors']:\n",
    "    print(\"Invalid choice.\")\n",
    "else:\n",
    "    if user_choice == comp_choice:\n",
    "        print(\"You chose {} and computer chose {}. It's a tie.\".format(user_choice, comp_choice))\n",
    "    elif (user_choice == 'rock' and comp_choice == 'scissors') or (user_choice == 'scissors' and comp_choice == 'paper') or (user_choice == 'paper' and comp_choice == 'rock'):\n",
    "        print(\"You chose {} and computer chose {}. You won!\".format(user_choice, comp_choice))\n",
    "    else:\n",
    "        print(\"You chose {} and computer chose {}. You lost.\".format(user_choice, comp_choice))\n"
   ]
  },
  {
   "cell_type": "markdown",
   "metadata": {},
   "source": [
    "## Bonus (6 points)\n",
    "\n",
    "FFor all questions in this assignment that involve accepting user input:\n",
    "\n",
    "- Use a **`try-except` block** to handle cases where the user may enter invalid input (e.g., non-numeric values).\n",
    "- Implement a **loop** that repeatedly prompts the user until a valid value is provided, so the program can proceed safely.\n",
    "- To receive credit, you must **revise each applicable question** by modifying your code to include both the input loop and error handling directly in that question’s solution.\n",
    "\n",
    "Each revised question is worth **1 point**."
   ]
  },
  {
   "cell_type": "code",
   "execution_count": 23,
   "metadata": {},
   "outputs": [
    {
     "name": "stdout",
     "output_type": "stream",
     "text": [
      "False\n"
     ]
    }
   ],
   "source": [
    "# Question 2\n",
    "def get_bool(prompt):\n",
    "    while True:\n",
    "        try:\n",
    "            user_input = input(prompt)\n",
    "            value = eval(user_input)\n",
    "            if isinstance(value, bool):\n",
    "                return value\n",
    "            else:\n",
    "                print(\"Error: input must be a boolean (True/False). Try again.\")\n",
    "        except:\n",
    "            print(\"Invalid input. Please enter a boolean (True/False).\")\n",
    "        \n",
    "user_1 = get_bool(\"Please enter the first Boolean:\")\n",
    "user_2 = get_bool(\"Please enter the second Boolean:\")\n",
    "\n",
    "print((user_1 and user_2) or not (user_1 or user_2))"
   ]
  },
  {
   "cell_type": "code",
   "execution_count": 24,
   "metadata": {},
   "outputs": [
    {
     "name": "stdout",
     "output_type": "stream",
     "text": [
      "Your tip amount is $20.0 and your total bill is $120.0.\n"
     ]
    }
   ],
   "source": [
    "# Question 4\n",
    "def valid(prompt, error, val):\n",
    "    while True:\n",
    "        try:\n",
    "            value = float(input(prompt))\n",
    "            if val(value):\n",
    "                return value\n",
    "            print(error)\n",
    "        except:\n",
    "            print(\"Invalid input. Pleaes enter a numeric value\")\n",
    "\n",
    "price = valid(\"Please enter the price of the meal:\",\n",
    "              \"Price must be greater than 0. Please enter again.\",\n",
    "              lambda x: x>0)\n",
    "tip = valid(\"Please enter the percent tip you want to leave (%):\",\n",
    "            \"Tip percentage must be greater than 0. Please enter again.\",\n",
    "            lambda x: x>0)\n",
    "\n",
    "tip_amount = (tip/100) * price\n",
    "total = price + tip_amount\n",
    "\n",
    "print(\"Your tip amount is ${} and your total bill is ${}.\".format(tip_amount, total))"
   ]
  },
  {
   "cell_type": "code",
   "execution_count": 17,
   "metadata": {},
   "outputs": [
    {
     "name": "stdout",
     "output_type": "stream",
     "text": [
      "200 seconds is 3 minutes and 20 seconds.\n"
     ]
    }
   ],
   "source": [
    "# Question 5\n",
    "def valid_sec():\n",
    "    while True:\n",
    "        try:\n",
    "            sec = int(input(\"Please enter a number of seconds: \"))\n",
    "            if sec >= 0:\n",
    "                return sec\n",
    "            print(\"Please enter a non-negative number.\")\n",
    "        except:\n",
    "            print(\"Invalid input. Please enter a whole number.\")\n",
    "\n",
    "sec = valid_sec()\n",
    "min = sec // 60\n",
    "remaining_sec = sec % 60  # More readable than original calculation\n",
    "\n",
    "# Print formatted result\n",
    "print(f\"{sec} seconds is {min} minutes and {remaining_sec} seconds.\")"
   ]
  }
 ],
 "metadata": {
  "kernelspec": {
   "display_name": ".venv",
   "language": "python",
   "name": "python3"
  },
  "language_info": {
   "codemirror_mode": {
    "name": "ipython",
    "version": 3
   },
   "file_extension": ".py",
   "mimetype": "text/x-python",
   "name": "python",
   "nbconvert_exporter": "python",
   "pygments_lexer": "ipython3",
   "version": "3.12.1"
  }
 },
 "nbformat": 4,
 "nbformat_minor": 4
}
